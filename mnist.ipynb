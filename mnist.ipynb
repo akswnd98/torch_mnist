{
  "nbformat": 4,
  "nbformat_minor": 0,
  "metadata": {
    "colab": {
      "name": "mnist.ipynb",
      "provenance": [],
      "collapsed_sections": []
    },
    "kernelspec": {
      "display_name": "Python 3",
      "name": "python3"
    },
    "accelerator": "GPU"
  },
  "cells": [
    {
      "cell_type": "code",
      "metadata": {
        "colab": {
          "base_uri": "https://localhost:8080/"
        },
        "id": "dhKjlCHaD7wC",
        "outputId": "c98b23e4-9024-46ba-c422-66868e67f92e"
      },
      "source": [
        "from google.colab import drive\r\n",
        "drive.mount('/content/drive')"
      ],
      "execution_count": null,
      "outputs": [
        {
          "output_type": "stream",
          "text": [
            "Mounted at /content/drive\n"
          ],
          "name": "stdout"
        }
      ]
    },
    {
      "cell_type": "code",
      "metadata": {
        "id": "jK7gCtZxDJaP"
      },
      "source": [
        "from PIL import Image\r\n",
        "import pandas as pd\r\n",
        "\r\n",
        "mnist_pd = pd.read_csv('/content/drive/MyDrive/Colab Notebooks/train.csv')\r\n"
      ],
      "execution_count": null,
      "outputs": []
    },
    {
      "cell_type": "code",
      "metadata": {
        "colab": {
          "base_uri": "https://localhost:8080/",
          "height": 64
        },
        "id": "hQPjhL0CF46Y",
        "outputId": "401ca87f-2c84-4fa4-9c84-bb262f9fbeb8"
      },
      "source": [
        "import numpy as np\r\n",
        "from IPython.display import display\r\n",
        "\r\n",
        "img_index = 0\r\n",
        "img = Image.fromarray(mnist_pd.iloc[img_index, 1:].to_numpy(dtype=np.uint8).reshape((28, 28)))\r\n",
        "display(img)\r\n",
        "print(mnist_pd.iloc[img_index][0])"
      ],
      "execution_count": null,
      "outputs": [
        {
          "output_type": "display_data",
          "data": {
            "image/png": "[encoded data removed]",
            "text/plain": [
              "<PIL.Image.Image image mode=L size=28x28 at 0x7F5500974898>"
            ]
          },
          "metadata": {
            "tags": []
          }
        },
        {
          "output_type": "stream",
          "text": [
            "1\n"
          ],
          "name": "stdout"
        }
      ]
    },
    {
      "cell_type": "code",
      "metadata": {
        "id": "okpyINXGWpFj"
      },
      "source": [
        "mnist = mnist_pd.to_numpy(dtype=np.uint8)\r\n",
        "np.random.shuffle(mnist)\r\n",
        "train_mnist = mnist[0: 30000]\r\n",
        "test_mnist = mnist[30000: 42000]\r\n",
        "test_label = test_mnist[:, 0]\r\n",
        "test_data = test_mnist[:, 1:].astype(dtype=np.float64)"
      ],
      "execution_count": null,
      "outputs": []
    },
    {
      "cell_type": "code",
      "metadata": {
        "id": "JUH48FW9JmVH"
      },
      "source": [
        "import torch\r\n",
        "import torch.nn as nn\r\n",
        "import torch.nn.functional as F\r\n",
        "import torch.optim as optim\r\n",
        "from torchvision import datasets, transforms\r\n",
        "\r\n",
        "train_size = 30000\r\n",
        "batch_size = 100\r\n",
        "epochs = 10\r\n",
        "lr = 0.01\r\n",
        "momentum = 0.5\r\n",
        "\r\n",
        "\r\n",
        "class Net(nn.Module):\r\n",
        "  def __init__(self):\r\n",
        "    super(Net, self).__init__()\r\n",
        "    self.fc1 = nn.Linear(784, 512).double()\r\n",
        "    self.fc2 = nn.Linear(512, 256).double()\r\n",
        "    self.fc3 = nn.Linear(256, 128).double()\r\n",
        "    self.fc4 = nn.Linear(128, 64).double()\r\n",
        "    self.fc5 = nn.Linear(64, 32).double()\r\n",
        "    self.fc6 = nn.Linear(32, 10).double()\r\n",
        "\r\n",
        "  def forward(self, x):\r\n",
        "    h1 = F.relu(self.fc1(x)).double()\r\n",
        "    h2 = F.relu(self.fc2(h1)).double()\r\n",
        "    h3 = F.relu(self.fc3(h2)).double()\r\n",
        "    h4 = F.relu(self.fc4(h3)).double()\r\n",
        "    h5 = F.relu(self.fc5(h4)).double()\r\n",
        "    h6 = self.fc6(h5).double()\r\n",
        "    return F.log_softmax(h6, dim=1).double()\r\n",
        "\r\n",
        "model = Net()\r\n",
        "optimizer = optim.SGD(model.parameters(), lr=lr, momentum=momentum)\r\n"
      ],
      "execution_count": null,
      "outputs": []
    },
    {
      "cell_type": "code",
      "metadata": {
        "id": "6y8pzXOBXMYd"
      },
      "source": [
        "def train_one_epoch():\r\n",
        "  np.random.shuffle(train_mnist)\r\n",
        "  train_label = train_mnist[:, 0]\r\n",
        "  train_data = train_mnist[:, 1:]\r\n",
        "  for i in range(0, train_size // batch_size):\r\n",
        "    optimizer.zero_grad()\r\n",
        "    output = model(torch.tensor(train_data[i * batch_size: (i + 1) * batch_size], dtype=torch.float64)).double()\r\n",
        "    loss = F.nll_loss(output, torch.tensor(train_label[i * batch_size: (i + 1) * batch_size], dtype=torch.int64)).double()\r\n",
        "    loss.backward()\r\n",
        "    optimizer.step()"
      ],
      "execution_count": null,
      "outputs": []
    },
    {
      "cell_type": "code",
      "metadata": {
        "id": "ez_V6A5kPrcy"
      },
      "source": [
        "model.train()\r\n",
        "for i in range(0, epochs):\r\n",
        "  train_one_epoch()"
      ],
      "execution_count": null,
      "outputs": []
    },
    {
      "cell_type": "code",
      "metadata": {
        "colab": {
          "base_uri": "https://localhost:8080/"
        },
        "id": "d0whuT7SEQJa",
        "outputId": "767afe97-53dd-46b3-e374-4188fa03305a"
      },
      "source": [
        "model.eval()\r\n",
        "output = model(torch.tensor(test_data.astype(np.float64)))\r\n",
        "correct = 0\r\n",
        "for i in range(12000):\r\n",
        "  correct += torch.argmax(output[i]) == test_label[i]\r\n",
        "\r\n",
        "print(correct / 12000 * 100)"
      ],
      "execution_count": null,
      "outputs": [
        {
          "output_type": "stream",
          "text": [
            "tensor(97.3833)\n"
          ],
          "name": "stdout"
        }
      ]
    },
    {
      "cell_type": "code",
      "metadata": {
        "colab": {
          "base_uri": "https://localhost:8080/",
          "height": 486
        },
        "id": "7fSOtt3DJYFm",
        "outputId": "3c4b1326-0fcb-4769-b0be-9613ec782ad0"
      },
      "source": [
        "for img_index in range(0, 10):\r\n",
        "  img = Image.fromarray(test_data[img_index].astype(np.uint8).reshape((28, 28)))\r\n",
        "  display(img)\r\n",
        "  print(test_label[img_index])"
      ],
      "execution_count": null,
      "outputs": [
        {
          "output_type": "display_data",
          "data": {
            "image/png": "[encoded data removed]",
            "text/plain": [
              "<PIL.Image.Image image mode=L size=28x28 at 0x7F54AA8845C0>"
            ]
          },
          "metadata": {
            "tags": []
          }
        },
        {
          "output_type": "stream",
          "text": [
            "2\n"
          ],
          "name": "stdout"
        },
        {
          "output_type": "display_data",
          "data": {
            "image/png": "[encoded data removed]",
            "text/plain": [
              "<PIL.Image.Image image mode=L size=28x28 at 0x7F54AA884A58>"
            ]
          },
          "metadata": {
            "tags": []
          }
        },
        {
          "output_type": "stream",
          "text": [
            "2\n"
          ],
          "name": "stdout"
        },
        {
          "output_type": "display_data",
          "data": {
            "image/png": "[encoded data removed]",
            "text/plain": [
              "<PIL.Image.Image image mode=L size=28x28 at 0x7F54AA884E80>"
            ]
          },
          "metadata": {
            "tags": []
          }
        },
        {
          "output_type": "stream",
          "text": [
            "6\n"
          ],
          "name": "stdout"
        },
        {
          "output_type": "display_data",
          "data": {
            "image/png": "[encoded data removed]",
            "text/plain": [
              "<PIL.Image.Image image mode=L size=28x28 at 0x7F54AA884358>"
            ]
          },
          "metadata": {
            "tags": []
          }
        },
        {
          "output_type": "stream",
          "text": [
            "0\n"
          ],
          "name": "stdout"
        },
        {
          "output_type": "display_data",
          "data": {
            "image/png": "[encoded data removed]",
            "text/plain": [
              "<PIL.Image.Image image mode=L size=28x28 at 0x7F54AA8846D8>"
            ]
          },
          "metadata": {
            "tags": []
          }
        },
        {
          "output_type": "stream",
          "text": [
            "5\n"
          ],
          "name": "stdout"
        },
        {
          "output_type": "display_data",
          "data": {
            "image/png": "[encoded data removed]",
            "text/plain": [
              "<PIL.Image.Image image mode=L size=28x28 at 0x7F54AA8844A8>"
            ]
          },
          "metadata": {
            "tags": []
          }
        },
        {
          "output_type": "stream",
          "text": [
            "5\n"
          ],
          "name": "stdout"
        },
        {
          "output_type": "display_data",
          "data": {
            "image/png": "[encoded data removed]",
            "text/plain": [
              "<PIL.Image.Image image mode=L size=28x28 at 0x7F54AA8845C0>"
            ]
          },
          "metadata": {
            "tags": []
          }
        },
        {
          "output_type": "stream",
          "text": [
            "7\n"
          ],
          "name": "stdout"
        },
        {
          "output_type": "display_data",
          "data": {
            "image/png": "[encoded data removed]",
            "text/plain": [
              "<PIL.Image.Image image mode=L size=28x28 at 0x7F54AA884A58>"
            ]
          },
          "metadata": {
            "tags": []
          }
        },
        {
          "output_type": "stream",
          "text": [
            "8\n"
          ],
          "name": "stdout"
        },
        {
          "output_type": "display_data",
          "data": {
            "image/png": "[encoded data removed]",
            "text/plain": [
              "<PIL.Image.Image image mode=L size=28x28 at 0x7F54AA884E80>"
            ]
          },
          "metadata": {
            "tags": []
          }
        },
        {
          "output_type": "stream",
          "text": [
            "5\n"
          ],
          "name": "stdout"
        },
        {
          "output_type": "display_data",
          "data": {
            "image/png": "[encoded data removed]",
            "text/plain": [
              "<PIL.Image.Image image mode=L size=28x28 at 0x7F54AA884358>"
            ]
          },
          "metadata": {
            "tags": []
          }
        },
        {
          "output_type": "stream",
          "text": [
            "4\n"
          ],
          "name": "stdout"
        }
      ]
    },
    {
      "cell_type": "code",
      "metadata": {
        "colab": {
          "base_uri": "https://localhost:8080/"
        },
        "id": "CodA1ybQLRg2",
        "outputId": "05aa3066-c268-441b-d3ec-f8b213fa5179"
      },
      "source": [
        ""
      ],
      "execution_count": null,
      "outputs": [
        {
          "output_type": "stream",
          "text": [
            "float64\n"
          ],
          "name": "stdout"
        }
      ]
    }
  ]
}